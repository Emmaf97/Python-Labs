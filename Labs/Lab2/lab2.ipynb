{
 "cells": [
  {
   "cell_type": "markdown",
   "metadata": {},
   "source": [
    "## 1. Variables"
   ]
  },
  {
   "cell_type": "markdown",
   "metadata": {},
   "source": [
    "## 1.1 Variable Reassignment"
   ]
  },
  {
   "cell_type": "code",
   "execution_count": 1,
   "metadata": {},
   "outputs": [
    {
     "name": "stdout",
     "output_type": "stream",
     "text": [
      "25\n",
      "30\n"
     ]
    }
   ],
   "source": [
    "age = 25\n",
    "print(age)\n",
    "age = 30\n",
    "print(age)"
   ]
  },
  {
   "cell_type": "code",
   "execution_count": 2,
   "metadata": {},
   "outputs": [
    {
     "name": "stdout",
     "output_type": "stream",
     "text": [
      "15\n"
     ]
    }
   ],
   "source": [
    "x = 10\n",
    "y = 5\n",
    "total = x + y\n",
    "print(total)"
   ]
  },
  {
   "cell_type": "markdown",
   "metadata": {},
   "source": [
    "## 1.1 Inputs"
   ]
  },
  {
   "cell_type": "code",
   "execution_count": 4,
   "metadata": {},
   "outputs": [
    {
     "name": "stdout",
     "output_type": "stream",
     "text": [
      "Hello Test!\n"
     ]
    }
   ],
   "source": [
    "name = input(\"Enter Name: \")\n",
    "print(\"Hello \" + name + \"!\")"
   ]
  },
  {
   "cell_type": "markdown",
   "metadata": {},
   "source": [
    "## Converting inputs to different Data Types"
   ]
  },
  {
   "cell_type": "code",
   "execution_count": 6,
   "metadata": {},
   "outputs": [
    {
     "name": "stdout",
     "output_type": "stream",
     "text": [
      "In ten years, you will be 20 years old\n"
     ]
    }
   ],
   "source": [
    "age = input(\"Enter age here: \")\n",
    "age  = int(age)\n",
    "future_Age = age + 10\n",
    "print(\"In ten years, you will be \" + str(future_Age) +\" years old\")"
   ]
  },
  {
   "cell_type": "markdown",
   "metadata": {},
   "source": [
    "## User Input Calculation"
   ]
  },
  {
   "cell_type": "code",
   "execution_count": 8,
   "metadata": {},
   "outputs": [
    {
     "name": "stdout",
     "output_type": "stream",
     "text": [
      "The product is  4.0\n"
     ]
    }
   ],
   "source": [
    "num1 = float(input(\"Enter the first number: \"))\n",
    "num2 = float(input(\"Enter the second number: \"))\n",
    "product = num1 * num2\n",
    "print(\"The product is \", product)"
   ]
  },
  {
   "cell_type": "markdown",
   "metadata": {},
   "source": [
    "## Arithmetic Operators\n",
    "\n",
    "• Addition: + <br>\n",
    "• Subtraction: - <br>\n",
    "• Multiplication: * <br>\n",
    "• Division: / <br>\n",
    "• Modulo (remainder): % <br>\n",
    "• Exponentiation: ** <br>\n",
    "• Floor Division: // <br>"
   ]
  },
  {
   "cell_type": "code",
   "execution_count": 9,
   "metadata": {},
   "outputs": [
    {
     "name": "stdout",
     "output_type": "stream",
     "text": [
      "13\n",
      "7\n",
      "30\n",
      "3.3333333333333335\n",
      "1\n",
      "1000\n",
      "3\n"
     ]
    }
   ],
   "source": [
    "x = 10 \n",
    "y = 3\n",
    "\n",
    "print(x + y)   #Output 13\n",
    "print(x - y)   #Output 7\n",
    "print(x * y)   #Output 30\n",
    "print(x / y)   #Output 3.3333333333333335\n",
    "print(x % y)   #Output 1\n",
    "print(x ** y)  #Output 1000\n",
    "print(x // y)  #Output 3"
   ]
  },
  {
   "cell_type": "markdown",
   "metadata": {},
   "source": [
    "## Arithmetic Calculation\n",
    "### 1. Calculate the sum of the two numbers.\n",
    "### 2. Calculate the difference between the first number and the second number.\n",
    "### 3. Calculate the product of the two numbers.\n",
    "### 4. Calculate the quotient when the first number is divided by the second number (use\n",
    "### floating-point division).\n",
    "### 5. Calculate the remainder when the first number is divided by the second number."
   ]
  },
  {
   "cell_type": "code",
   "execution_count": 7,
   "metadata": {},
   "outputs": [
    {
     "name": "stdout",
     "output_type": "stream",
     "text": [
      "Sum 13\n",
      "Difference 7\n",
      "Product 30\n",
      "Quotient 3.3333333333333335\n",
      "remainder 1\n"
     ]
    }
   ],
   "source": [
    "# version 1\n",
    "num1 = input(\"Enter the first number\")\n",
    "num2 = input(\"Enter the second number\")\n",
    "\n",
    "sum = int(num1) + int(num2)\n",
    "diff = int(num1) - int(num2)\n",
    "product = int(num1) * int(num2)\n",
    "quotient = float(num1) / float(num2)\n",
    "remainder = int(num1) % int(num2) \n",
    "\n",
    "print(\"Sum\",sum)\n",
    "print(\"Difference\",diff)\n",
    "print(\"Product\",product)\n",
    "print(\"Quotient\",quotient)\n",
    "print(\"remainder\",remainder)\n",
    "\n"
   ]
  },
  {
   "cell_type": "code",
   "execution_count": 8,
   "metadata": {},
   "outputs": [
    {
     "name": "stdout",
     "output_type": "stream",
     "text": [
      "Sum 13.0\n",
      "Difference 7.0\n",
      "Product 30.0\n",
      "Quotient 3.3333333333333335\n",
      "remainder 1.0\n"
     ]
    }
   ],
   "source": [
    "#version 2\n",
    "num1 = float(input(\"Enter the first number\"))\n",
    "num2 = float(input(\"Enter the second number\"))\n",
    "\n",
    "sum = num1 + num2\n",
    "diff = num1 - num2\n",
    "product = num1 * num2\n",
    "quotient = num1 / num2\n",
    "remainder = num1 % num2 \n",
    "\n",
    "print(\"Sum\",sum)\n",
    "print(\"Difference\",diff)\n",
    "print(\"Product\",product)\n",
    "print(\"Quotient\",quotient)\n",
    "print(\"remainder\",remainder)"
   ]
  },
  {
   "cell_type": "markdown",
   "metadata": {},
   "source": [
    "## (Convert Celsius to Fahrenheit) Write a program that reads a Celsius degree from the\n",
    "## console and converts it to Fahrenheit and displays the result."
   ]
  },
  {
   "cell_type": "code",
   "execution_count": 13,
   "metadata": {},
   "outputs": [
    {
     "name": "stdout",
     "output_type": "stream",
     "text": [
      "36.0 degrees is 96.8 Fahrenheit\n"
     ]
    }
   ],
   "source": [
    "celsius = float(input(\"Enter a degree in Celsius: \"))\n",
    "\n",
    "frac = 9 / 5\n",
    "add = 32\n",
    "\n",
    "print(f'{celsius} degrees is {frac * celsius + add} Fahrenheit')"
   ]
  },
  {
   "cell_type": "markdown",
   "metadata": {},
   "source": [
    "## (Compute the volume of a cylinder) Write a program that reads in the radius and\n",
    "## length of a cylinder and computes the area and volume using the following formulas:"
   ]
  },
  {
   "cell_type": "code",
   "execution_count": 31,
   "metadata": {},
   "outputs": [
    {
     "name": "stdout",
     "output_type": "stream",
     "text": [
      "113.10\n",
      "1357.17\n"
     ]
    }
   ],
   "source": [
    "# area = radius * radius * pie\n",
    "# volume = area * length\n",
    "import math\n",
    "radius = float(input(\"Enter the radius of the cylinder: \"))\n",
    "length = float(input(\"Enter the length of the cylinder: \"))\n",
    "\n",
    "area = radius * radius * math.pi\n",
    "volume = area * length\n",
    "print(format(area, \".2f\"))\n",
    "print(format(volume, \".2f\"))\n"
   ]
  },
  {
   "cell_type": "markdown",
   "metadata": {},
   "source": [
    "## (Convert feet into meters) Write a program that reads a number in feet, converts it\n",
    "## to meters, and displays the result. One foot is 0.305 meters."
   ]
  },
  {
   "cell_type": "code",
   "execution_count": 26,
   "metadata": {},
   "outputs": [
    {
     "name": "stdout",
     "output_type": "stream",
     "text": [
      "15.0 feet is 4.58 meters\n"
     ]
    }
   ],
   "source": [
    "feet = float(input(\"Enter a value for feet: \"))\n",
    "meter = feet * 0.305\n",
    "print(f'{feet} feet is {format(meter, \".2f\")} meters')"
   ]
  }
 ],
 "metadata": {
  "kernelspec": {
   "display_name": "Python 3",
   "language": "python",
   "name": "python3"
  },
  "language_info": {
   "codemirror_mode": {
    "name": "ipython",
    "version": 3
   },
   "file_extension": ".py",
   "mimetype": "text/x-python",
   "name": "python",
   "nbconvert_exporter": "python",
   "pygments_lexer": "ipython3",
   "version": "3.12.2"
  }
 },
 "nbformat": 4,
 "nbformat_minor": 2
}
