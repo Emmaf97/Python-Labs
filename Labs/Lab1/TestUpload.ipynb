{
 "cells": [
  {
   "cell_type": "markdown",
   "metadata": {},
   "source": [
    "## Test Jupyter Notebook"
   ]
  },
  {
   "cell_type": "code",
   "execution_count": 1,
   "metadata": {},
   "outputs": [
    {
     "name": "stdout",
     "output_type": "stream",
     "text": [
      "hello World\n"
     ]
    }
   ],
   "source": [
    "print('hello World')"
   ]
  },
  {
   "cell_type": "code",
   "execution_count": 4,
   "metadata": {},
   "outputs": [
    {
     "name": "stdout",
     "output_type": "stream",
     "text": [
      "Hi from Test\n"
     ]
    }
   ],
   "source": [
    "name = \"Test\"\n",
    "print(f\"Hi from {name}\")"
   ]
  },
  {
   "cell_type": "code",
   "execution_count": 1,
   "metadata": {},
   "outputs": [
    {
     "name": "stdout",
     "output_type": "stream",
     "text": [
      "4\n"
     ]
    }
   ],
   "source": [
    "print(2 + 2)"
   ]
  },
  {
   "cell_type": "code",
   "execution_count": 3,
   "metadata": {},
   "outputs": [
    {
     "name": "stdout",
     "output_type": "stream",
     "text": [
      "msg\n",
      "<class 'bool'>\n"
     ]
    }
   ],
   "source": [
    "age = 17                #whole number\n",
    "go_for_pint = True      # boolean\n",
    "wages = 12.50           #float\n",
    "text = \"test text\"      #string\n",
    "\n",
    "print(\"msg\")\n",
    "type(go_for_pint)\n",
    "\n",
    "print(type(go_for_pint))"
   ]
  },
  {
   "cell_type": "code",
   "execution_count": 8,
   "metadata": {},
   "outputs": [
    {
     "data": {
      "text/plain": [
       "19"
      ]
     },
     "execution_count": 8,
     "metadata": {},
     "output_type": "execute_result"
    }
   ],
   "source": [
    "age = \"17\"\n",
    "age = int(age)\n",
    "int_age = int(age)\n",
    "\n",
    "#new_age = age + 2 #can't convert string with a number\n",
    "\n",
    "#new_age2 = age + str(2)\n",
    "\n",
    "new_age3 = int_age + 2\n",
    "\n",
    "new_age4 = age + 2\n",
    "\n",
    "#new_age3\n",
    "new_age4"
   ]
  },
  {
   "cell_type": "code",
   "execution_count": 9,
   "metadata": {},
   "outputs": [
    {
     "name": "stdout",
     "output_type": "stream",
     "text": [
      "testing python strings\n",
      "this a test multiline string\n"
     ]
    }
   ],
   "source": [
    "poem = \"\"\"testing python strings\n",
    "this a test multiline string\"\"\"\n",
    "\n",
    "print(poem)"
   ]
  },
  {
   "cell_type": "code",
   "execution_count": 11,
   "metadata": {},
   "outputs": [
    {
     "name": "stdout",
     "output_type": "stream",
     "text": [
      "This is a multiline\n",
      "string using triple\n",
      "single quotes.\n"
     ]
    }
   ],
   "source": [
    "#Find 2 other ways to do multi-line strings \n",
    "\n",
    "string1 = '''\n",
    "This is a \n",
    "multi line string test\n",
    "'''\n",
    "multiline_string1 = '''This is a multiline\n",
    "string using triple\n",
    "single quotes.'''\n",
    "\n",
    "multiline_string2 = 'This is a multiline ' \\\n",
    "                   'string using escape ' \\\n",
    "                   'sequences.'\n",
    "#string1\n",
    "print(multiline_string1)"
   ]
  }
 ],
 "metadata": {
  "kernelspec": {
   "display_name": "Python 3",
   "language": "python",
   "name": "python3"
  },
  "language_info": {
   "codemirror_mode": {
    "name": "ipython",
    "version": 3
   },
   "file_extension": ".py",
   "mimetype": "text/x-python",
   "name": "python",
   "nbconvert_exporter": "python",
   "pygments_lexer": "ipython3",
   "version": "3.12.2"
  }
 },
 "nbformat": 4,
 "nbformat_minor": 2
}
