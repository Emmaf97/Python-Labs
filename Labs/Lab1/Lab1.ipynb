{
 "cells": [
  {
   "cell_type": "markdown",
   "metadata": {},
   "source": [
    "1. Display three different messages. Write a program that displays\n",
    "Welcome to Python\n",
    "Welcome to Computer Science\n",
    "Programming is fun"
   ]
  },
  {
   "cell_type": "code",
   "execution_count": 4,
   "metadata": {},
   "outputs": [
    {
     "name": "stdout",
     "output_type": "stream",
     "text": [
      "Welcome to Python\n",
      "Welcome to Computer Science\n",
      "Programming is fun\n"
     ]
    }
   ],
   "source": [
    "def threeMessages():\n",
    "    print(\"Welcome to Python\")\n",
    "    print(\"Welcome to Computer Science\")\n",
    "    print(\"Programming is fun\")\n",
    "    \n",
    "threeMessages()"
   ]
  },
  {
   "cell_type": "markdown",
   "metadata": {},
   "source": [
    "2. Display the same message five times. Write a program that displays Welcome to Python five times"
   ]
  },
  {
   "cell_type": "code",
   "execution_count": 13,
   "metadata": {},
   "outputs": [
    {
     "name": "stdout",
     "output_type": "stream",
     "text": [
      "Welcome to Python\n",
      "Welcome to Python\n",
      "Welcome to Python\n",
      "Welcome to Python\n",
      "Welcome to Python\n",
      "done\n"
     ]
    }
   ],
   "source": [
    "\n",
    "def repeatMessage():\n",
    "   x = 0\n",
    "   while x<5:\n",
    "       print(\"Welcome to Python\")\n",
    "       x = x + 1\n",
    "   else:\n",
    "       print(\"done\")\n",
    "       \n",
    "repeatMessage()"
   ]
  },
  {
   "cell_type": "markdown",
   "metadata": {},
   "source": [
    "3.Display a pattern. \n",
    "FUN"
   ]
  },
  {
   "cell_type": "code",
   "execution_count": 132,
   "metadata": {},
   "outputs": [
    {
     "name": "stdout",
     "output_type": "stream",
     "text": [
      "FFFFFFF\n",
      "FF\n",
      "FFFFFFF\n",
      "FF\n",
      "FF\n",
      "  \n",
      "U     U\n",
      "U     U\n",
      "U     U\n",
      " U   U \n",
      "  UUU\n",
      "  \n",
      "NN      NN\n",
      "NNN     NN\n",
      "NN  N   NN\n",
      "NN   N  NN\n",
      "NN     NNN\n"
     ]
    }
   ],
   "source": [
    "def patternDisplayF():\n",
    "    x = 0\n",
    "    while x < 5:\n",
    "        # print(\"FF\")\n",
    "        if x == 0 or x == 2:\n",
    "            print(\"FFFFFFF\")\n",
    "        else:\n",
    "            print(\"FF\")\n",
    "        x = x + 1\n",
    "    else:\n",
    "        pass\n",
    "        \n",
    "patternDisplayF()\n",
    "print(\"  \")\n",
    "def patternDisplayU():\n",
    "    y=0\n",
    "    while y < 5:\n",
    "        if y == 0 or y == 1 or y == 2:\n",
    "            print((\"U\") + (\"     U\"))\n",
    "        if y == 3:\n",
    "            print((\" U\") + (\"   U \"))\n",
    "        if y == 4:\n",
    "            print(\"  UUU\")\n",
    "        y = y + 1\n",
    "    else:\n",
    "        pass\n",
    "    \n",
    "patternDisplayU()\n",
    "print(\"  \")\n",
    "def patternDisplayN():\n",
    "    z=0\n",
    "    while z < 6:\n",
    "        if z == 0:\n",
    "            print(\"NN      NN\")\n",
    "            z = z + 1\n",
    "        if z == 1:\n",
    "            print(\"NNN     NN\")\n",
    "            z = z + 1\n",
    "        if z == 2:\n",
    "            print(\"NN  N   NN\")\n",
    "            z = z + 1\n",
    "        if z == 3 :\n",
    "            print(\"NN   N  NN\")\n",
    "            z = z + 1\n",
    "        else:\n",
    "            print(\"NN     NNN\")\n",
    "        z = z + 1\n",
    "    else:\n",
    "        pass\n",
    "patternDisplayN()"
   ]
  }
 ],
 "metadata": {
  "kernelspec": {
   "display_name": "Python 3",
   "language": "python",
   "name": "python3"
  },
  "language_info": {
   "codemirror_mode": {
    "name": "ipython",
    "version": 3
   },
   "file_extension": ".py",
   "mimetype": "text/x-python",
   "name": "python",
   "nbconvert_exporter": "python",
   "pygments_lexer": "ipython3",
   "version": "3.12.2"
  }
 },
 "nbformat": 4,
 "nbformat_minor": 2
}
