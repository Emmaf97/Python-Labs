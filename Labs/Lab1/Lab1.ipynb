{
 "cells": [
  {
   "cell_type": "markdown",
   "metadata": {},
   "source": [
    "## 1. Display three different messages. Write a program that displays:\n",
    "### Welcome to Python\n",
    "### Welcome to Computer Science\n",
    "### Programming is fun"
   ]
  },
  {
   "cell_type": "code",
   "execution_count": 4,
   "metadata": {},
   "outputs": [
    {
     "name": "stdout",
     "output_type": "stream",
     "text": [
      "Welcome to Python\n",
      "Welcome to Computer Science\n",
      "Programming is fun\n"
     ]
    }
   ],
   "source": [
    "def threeMessages():\n",
    "    print(\"Welcome to Python\")\n",
    "    print(\"Welcome to Computer Science\")\n",
    "    print(\"Programming is fun\")\n",
    "    \n",
    "threeMessages()"
   ]
  },
  {
   "cell_type": "markdown",
   "metadata": {},
   "source": [
    "## 2. Display the same message five times. Write a program that displays:\n",
    "### Welcome to Python five times"
   ]
  },
  {
   "cell_type": "code",
   "execution_count": 13,
   "metadata": {},
   "outputs": [
    {
     "name": "stdout",
     "output_type": "stream",
     "text": [
      "Welcome to Python\n",
      "Welcome to Python\n",
      "Welcome to Python\n",
      "Welcome to Python\n",
      "Welcome to Python\n",
      "done\n"
     ]
    }
   ],
   "source": [
    "\n",
    "def repeatMessage():\n",
    "   x = 0\n",
    "   while x<5:\n",
    "       print(\"Welcome to Python\")\n",
    "       x = x + 1\n",
    "   else:\n",
    "       print(\"done\")\n",
    "       \n",
    "repeatMessage()"
   ]
  },
  {
   "cell_type": "markdown",
   "metadata": {},
   "source": [
    "## 3.Display a pattern. \n",
    "### Example - FUN"
   ]
  },
  {
   "cell_type": "code",
   "execution_count": 140,
   "metadata": {},
   "outputs": [
    {
     "name": "stdout",
     "output_type": "stream",
     "text": [
      "FFFFFFF\n",
      "FF\n",
      "FFFFFFF\n",
      "FF\n",
      "FF\n",
      "  \n",
      "U     U\n",
      "U     U\n",
      "U     U\n",
      " U   U \n",
      "  UUU\n",
      "  \n",
      "NN      NN\n",
      "NNN     NN\n",
      "NN  N   NN\n",
      "NN   N  NN\n",
      "NN     NNN\n"
     ]
    }
   ],
   "source": [
    "def patternDisplayF():\n",
    "    x = 0\n",
    "    while x < 5:\n",
    "        # print(\"FF\")\n",
    "        if x == 0 or x == 2:\n",
    "            print(\"FFFFFFF\")\n",
    "        else:\n",
    "            print(\"FF\")\n",
    "        x = x + 1\n",
    "    else:\n",
    "        pass\n",
    "        \n",
    "patternDisplayF()\n",
    "print(\"  \")\n",
    "def patternDisplayU():\n",
    "    y=0\n",
    "    while y < 5:\n",
    "        if y == 0 or y == 1 or y == 2:\n",
    "            print((\"U\" ) + (\"     U\"))\n",
    "        if y == 3:\n",
    "            print((\" U\") + (\"   U \"))\n",
    "        if y == 4:\n",
    "            print(\"  UUU\")\n",
    "        y = y + 1\n",
    "    else:\n",
    "        pass\n",
    "    \n",
    "patternDisplayU()\n",
    "print(\"  \")\n",
    "def patternDisplayN():\n",
    "    z=0\n",
    "    while z < 6:\n",
    "        if z == 0:\n",
    "            print(\"NN      NN\")\n",
    "            z = z + 1\n",
    "        if z == 1:\n",
    "            print(\"NNN     NN\")\n",
    "            z = z + 1\n",
    "        if z == 2:\n",
    "            print(\"NN  N   NN\")\n",
    "            z = z + 1\n",
    "        if z == 3 :\n",
    "            print(\"NN   N  NN\")\n",
    "            z = z + 1\n",
    "        else:\n",
    "            print(\"NN     NNN\")\n",
    "        z = z + 1\n",
    "    else:\n",
    "        pass\n",
    "patternDisplayN()"
   ]
  },
  {
   "cell_type": "code",
   "execution_count": 203,
   "metadata": {},
   "outputs": [
    {
     "name": "stdout",
     "output_type": "stream",
     "text": [
      "FFFFFFF   U     U   NN     NN\n",
      "FF        U     U   NNN    NN\n",
      "FFFFFFF   U     U   NN N   NN\n",
      "FF         U   U    NN  N  NN\n",
      "FF          UUU     NN    NNN\n"
     ]
    }
   ],
   "source": [
    "def patternDisplay():\n",
    "    print(\"FFFFFFF   U     U   NN     NN\")\n",
    "    print(\"FF        U     U   NNN    NN\")\n",
    "    print(\"FFFFFFF   U     U   NN N   NN\")\n",
    "    print(\"FF         U   U    NN  N  NN\")\n",
    "    print(\"FF          UUU     NN    NNN\")\n",
    "\n",
    "\n",
    "\n",
    "patternDisplay()"
   ]
  },
  {
   "cell_type": "markdown",
   "metadata": {},
   "source": [
    "## 4. Print a table."
   ]
  },
  {
   "cell_type": "code",
   "execution_count": 194,
   "metadata": {},
   "outputs": [
    {
     "name": "stdout",
     "output_type": "stream",
     "text": [
      "a, a^2, a^3\n",
      "1,  1,   1,\n",
      "2,  4,   8,\n",
      "3,  9,   27,\n",
      "4,  16,   64,\n"
     ]
    }
   ],
   "source": [
    "# version 1 \n",
    "# def printTable():\n",
    "#     a = 0\n",
    "#     a2 = 0\n",
    "#     a3 = 0\n",
    "#     while a < 5:\n",
    "#         # print(a)\n",
    "#         if( a == 0):\n",
    "#             print(\"a\")\n",
    "#             a +=1\n",
    "#         else:\n",
    "#             print(a)\n",
    "#             a +=1\n",
    "#     while a2 < 5:\n",
    "#         if( a2 == 0):\n",
    "#             print(\"a^2\")\n",
    "#             a2 += 1\n",
    "#         else:\n",
    "#             print(a2 ** a2)\n",
    "#             a2 += 1\n",
    "            # a2 ** a2\n",
    "            \n",
    "#version 2\n",
    "def printTableV2():\n",
    "    a = 0\n",
    "    while a < 5:\n",
    "        if( a == 0):\n",
    "            print(f'a, a^2, a^3')\n",
    "            a +=1\n",
    "        else:\n",
    "         print(f'{a},  {a**2},   {a**3},')\n",
    "         a +=1\n",
    "\n",
    "printTableV2()  "
   ]
  },
  {
   "cell_type": "markdown",
   "metadata": {},
   "source": [
    "## 5. Compute expressions"
   ]
  },
  {
   "cell_type": "code",
   "execution_count": 202,
   "metadata": {},
   "outputs": [
    {
     "name": "stdout",
     "output_type": "stream",
     "text": [
      "0.8392857142857143\n"
     ]
    }
   ],
   "source": [
    "# (9.5 X 4.5) - (2.5 X 3) % (45.5 - 3.5)\n",
    "\n",
    "def equationCalc():\n",
    "    ab = 9.5*4.5\n",
    "    cd = 2.5*3\n",
    "    ef = 45.5 - 3.5\n",
    "    resulttop = ab - cd\n",
    "    #print(f'{ab}, {cd}, {ef}')\n",
    "    print(resulttop / ef)\n",
    "    \n",
    "equationCalc()"
   ]
  }
 ],
 "metadata": {
  "kernelspec": {
   "display_name": "Python 3",
   "language": "python",
   "name": "python3"
  },
  "language_info": {
   "codemirror_mode": {
    "name": "ipython",
    "version": 3
   },
   "file_extension": ".py",
   "mimetype": "text/x-python",
   "name": "python",
   "nbconvert_exporter": "python",
   "pygments_lexer": "ipython3",
   "version": "3.12.2"
  }
 },
 "nbformat": 4,
 "nbformat_minor": 2
}
